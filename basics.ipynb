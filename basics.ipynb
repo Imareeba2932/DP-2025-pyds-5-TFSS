{
 "cells": [
  {
   "cell_type": "markdown",
   "id": "c9fe21ad",
   "metadata": {},
   "source": [
    "heading\n",
    "# heading\n",
    "### heading\n",
    "###### heading"
   ]
  },
  {
   "cell_type": "markdown",
   "id": "0de32faf",
   "metadata": {},
   "source": [
    "- point1\n",
    "- point2\n",
    "    - subpoint1\n",
    "    - subpoint2\n",
    "    - subpoint3\n",
    "- point3"
   ]
  },
  {
   "cell_type": "code",
   "execution_count": 2,
   "id": "f92861d4",
   "metadata": {},
   "outputs": [
    {
     "name": "stdout",
     "output_type": "stream",
     "text": [
      "10\n"
     ]
    }
   ],
   "source": [
    "a = 10\n",
    "print(a)"
   ]
  },
  {
   "cell_type": "code",
   "execution_count": null,
   "id": "83d0d28a",
   "metadata": {},
   "outputs": [],
   "source": []
  },
  {
   "cell_type": "code",
   "execution_count": null,
   "id": "6b16cd99",
   "metadata": {},
   "outputs": [],
   "source": []
  },
  {
   "cell_type": "code",
   "execution_count": null,
   "id": "b26b28db",
   "metadata": {},
   "outputs": [],
   "source": []
  },
  {
   "cell_type": "code",
   "execution_count": null,
   "id": "d14ce2ea",
   "metadata": {},
   "outputs": [],
   "source": []
  }
 ],
 "metadata": {
  "kernelspec": {
   "display_name": "base",
   "language": "python",
   "name": "python3"
  },
  "language_info": {
   "codemirror_mode": {
    "name": "ipython",
    "version": 3
   },
   "file_extension": ".py",
   "mimetype": "text/x-python",
   "name": "python",
   "nbconvert_exporter": "python",
   "pygments_lexer": "ipython3",
   "version": "3.12.9"
  }
 },
 "nbformat": 4,
 "nbformat_minor": 5
}
