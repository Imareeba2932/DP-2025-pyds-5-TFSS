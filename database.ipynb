{
 "cells": [
  {
   "cell_type": "code",
   "execution_count": 17,
   "id": "174ea6db",
   "metadata": {},
   "outputs": [],
   "source": [
    "from sqlalchemy import create_engine, Column, Integer, String\n",
    "from sqlalchemy.orm import declarative_base, sessionmaker"
   ]
  },
  {
   "cell_type": "markdown",
   "id": "a2031c89",
   "metadata": {},
   "source": [
    "- create_engine : It is used to make connection from the database\n",
    "- column : It defines columns in database\n",
    "- Integer and String : datatype of values in database"
   ]
  },
  {
   "cell_type": "code",
   "execution_count": 18,
   "id": "daa97de6",
   "metadata": {},
   "outputs": [],
   "source": [
    "engine = create_engine('sqlite:///user.db')"
   ]
  },
  {
   "cell_type": "code",
   "execution_count": 19,
   "id": "d07a1c03",
   "metadata": {},
   "outputs": [],
   "source": [
    "#this line is needed to create the table\n",
    "Base = declarative_base()"
   ]
  },
  {
   "cell_type": "code",
   "execution_count": 20,
   "id": "c0042f9f",
   "metadata": {},
   "outputs": [],
   "source": [
    "class User(Base):\n",
    "    __tablename__='users'\n",
    "    id = Column(Integer, primary_key=True)\n",
    "    name = Column(String)\n",
    "    password = Column(String)"
   ]
  },
  {
   "cell_type": "code",
   "execution_count": 21,
   "id": "97ac613f",
   "metadata": {},
   "outputs": [],
   "source": [
    "Base.metadata.create_all(engine)"
   ]
  },
  {
   "cell_type": "code",
   "execution_count": 22,
   "id": "9f600cd6",
   "metadata": {},
   "outputs": [],
   "source": [
    "Session = sessionmaker(bind=engine) #this line tells the sessionmakerto use the engine we created\n",
    "session = Session() #this line creates a session object"
   ]
  },
  {
   "cell_type": "code",
   "execution_count": 23,
   "id": "eed7ce29",
   "metadata": {},
   "outputs": [],
   "source": [
    "#add a new user\n",
    "new_user = User(name='Alice', password='2736')\n",
    "session.add(new_user)\n",
    "session.commit()"
   ]
  },
  {
   "cell_type": "code",
   "execution_count": 24,
   "id": "10c471ca",
   "metadata": {},
   "outputs": [],
   "source": [
    "#add a new user\n",
    "new_user = User(name='John', password='abrakadabra')\n",
    "session.add(new_user)\n",
    "session.commit()"
   ]
  },
  {
   "cell_type": "code",
   "execution_count": null,
   "id": "0e8a7f27",
   "metadata": {},
   "outputs": [
    {
     "name": "stdout",
     "output_type": "stream",
     "text": [
      "ID: 1,Name: Alice, Password: 2736\n",
      "ID: 2,Name: Alice, Password: 2736\n",
      "ID: 3,Name: John, Password: abrakadabra\n"
     ]
    }
   ],
   "source": [
    "#retrive all users\n",
    "users = session.query(User).all()\n",
    "for user in users:\n",
    "    print(f'ID: {user.id},Name: {user.name}, Password: {user.password}')"
   ]
  },
  {
   "cell_type": "code",
   "execution_count": 29,
   "id": "67a5abcd",
   "metadata": {},
   "outputs": [],
   "source": [
    "#update the user\n",
    "user = session.query(User).filter_by(id=1).first()\n",
    "user.name = 'John Smith'\n",
    "session.commit()"
   ]
  },
  {
   "cell_type": "code",
   "execution_count": 30,
   "id": "c0278e43",
   "metadata": {},
   "outputs": [
    {
     "name": "stdout",
     "output_type": "stream",
     "text": [
      "ID: 1,Name: John Smith, Password: 2736\n",
      "ID: 2,Name: Alice, Password: 2736\n",
      "ID: 3,Name: John, Password: abrakadabra\n"
     ]
    }
   ],
   "source": [
    "#retrive all users\n",
    "users = session.query(User).all()\n",
    "for user in users:\n",
    "    print(f'ID: {user.id},Name: {user.name}, Password: {user.password}')"
   ]
  },
  {
   "cell_type": "code",
   "execution_count": 31,
   "id": "90f2a642",
   "metadata": {},
   "outputs": [],
   "source": [
    "#delete a user\n",
    "user = session.query(User).filter_by(id=1).first()\n",
    "session.delete(user)\n",
    "session.commit()"
   ]
  },
  {
   "cell_type": "code",
   "execution_count": 32,
   "id": "2c702dda",
   "metadata": {},
   "outputs": [
    {
     "name": "stdout",
     "output_type": "stream",
     "text": [
      "ID: 2,Name: Alice, Password: 2736\n",
      "ID: 3,Name: John, Password: abrakadabra\n"
     ]
    }
   ],
   "source": [
    "#retrive all users\n",
    "users = session.query(User).all()\n",
    "for user in users:\n",
    "    print(f'ID: {user.id},Name: {user.name}, Password: {user.password}')"
   ]
  },
  {
   "cell_type": "code",
   "execution_count": null,
   "id": "106de1c5",
   "metadata": {},
   "outputs": [],
   "source": []
  }
 ],
 "metadata": {
  "kernelspec": {
   "display_name": "base",
   "language": "python",
   "name": "python3"
  },
  "language_info": {
   "codemirror_mode": {
    "name": "ipython",
    "version": 3
   },
   "file_extension": ".py",
   "mimetype": "text/x-python",
   "name": "python",
   "nbconvert_exporter": "python",
   "pygments_lexer": "ipython3",
   "version": "3.12.9"
  }
 },
 "nbformat": 4,
 "nbformat_minor": 5
}
