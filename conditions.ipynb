{
 "cells": [
  {
   "cell_type": "code",
   "execution_count": 9,
   "id": "51d46b7c",
   "metadata": {},
   "outputs": [
    {
     "name": "stdout",
     "output_type": "stream",
     "text": [
      "hello\n",
      "world\n",
      "done\n"
     ]
    }
   ],
   "source": [
    "a = 12\n",
    "if a>10:\n",
    "    print(\"hello\")\n",
    "    print(\"world\")\n",
    "\n",
    "print(\"done\")\n"
   ]
  },
  {
   "cell_type": "code",
   "execution_count": 14,
   "id": "d23be525",
   "metadata": {},
   "outputs": [],
   "source": [
    "marks = 85\n",
    "if marks >= 90:\n",
    "    print(\"A+\")\n",
    "if marks <= 80:\n",
    "    print(\"A\")\n",
    "if marks <= 60:\n",
    "    print(\"B\")\n",
    "if marks < 60:\n",
    "    print('Fail')"
   ]
  },
  {
   "cell_type": "code",
   "execution_count": 15,
   "id": "539a9468",
   "metadata": {},
   "outputs": [
    {
     "name": "stdout",
     "output_type": "stream",
     "text": [
      "Invalid marks\n"
     ]
    }
   ],
   "source": [
    "marks = 85\n",
    "if marks >= 90:\n",
    "    print(\"A+\")\n",
    "elif marks <= 80:\n",
    "    print(\"A\")\n",
    "elif marks <= 60:\n",
    "    print(\"B\")\n",
    "elif marks < 60:\n",
    "    print('Fail')\n",
    "else:\n",
    "    print(\"Invalid marks\")"
   ]
  },
  {
   "cell_type": "code",
   "execution_count": 16,
   "id": "d91d1ca0",
   "metadata": {},
   "outputs": [
    {
     "name": "stdout",
     "output_type": "stream",
     "text": [
      "You are eligible to vote\n"
     ]
    }
   ],
   "source": [
    "age = 20\n",
    "if age >= 18:\n",
    "    print(\"You are eligible to vote\")\n",
    "else:\n",
    "    print(\"You are not eligible to vote\")"
   ]
  },
  {
   "cell_type": "markdown",
   "id": "b0ef21b2",
   "metadata": {},
   "source": [
    "- check whether the two sides of a tringle is equal or not\n",
    "- check whether a triangle is an equilateral triangle or iscoceles triangle\n",
    "- check whether a character entered by user is vowel or not\n",
    "- check whether a year is a leap year or not\n",
    "- check whether a number is even or odd\n",
    "- calculate the gross salary of an employee where the basic salary is 50,000, HRA is 5% of basic salary and DA is 10% of basic salary"
   ]
  },
  {
   "cell_type": "code",
   "execution_count": null,
   "id": "8230af8c",
   "metadata": {},
   "outputs": [
    {
     "name": "stdout",
     "output_type": "stream",
     "text": [
      "Basic Salary: 50000\n",
      "HRA: 2500.0\n",
      "DA: 5000.0\n",
      "Gross Salary: 57500.0\n"
     ]
    }
   ],
   "source": [
    "#GROSS SALARY CALCULATION\n",
    "bs = 50000\n",
    "HRA = 0.05 * bs\n",
    "DA = 0.1 * bs\n",
    "GS = bs + HRA + DA\n",
    "print(\"Basic Salary:\", bs)\n",
    "print(\"HRA:\", HRA)\n",
    "print(\"DA:\", DA)\n",
    "print(\"Gross Salary:\", GS)"
   ]
  },
  {
   "cell_type": "markdown",
   "id": "fcfcbf12",
   "metadata": {},
   "source": [
    "NESTED IF"
   ]
  },
  {
   "cell_type": "code",
   "execution_count": 4,
   "id": "1c836231",
   "metadata": {},
   "outputs": [
    {
     "name": "stdout",
     "output_type": "stream",
     "text": [
      "Password must be between 10 and 20 characters😫\n"
     ]
    }
   ],
   "source": [
    "username = input(\"Enter your username: \")\n",
    "email = input(\"Enter your email: \")\n",
    "password = input(\"Enter your password: \")\n",
    "cpass = input(\"Confirm your password: \")\n",
    "if len(username)>=8 and len(username)<=20:\n",
    "    if '@' in email and len(email) >=8:\n",
    "        if len(password) >=10 and len(password) <= 20:\n",
    "            if password == cpass:\n",
    "                print(\"Registration successful🎉\")\n",
    "            else:\n",
    "                print(\"Password mismatch😢\")\n",
    "        else:\n",
    "            print(\"Password must be between 10 and 20 characters😫\")\n",
    "    else:\n",
    "        print(\"Invalid email🤦‍♀️\")\n",
    "else:\n",
    "    print(\"Username must be between 8 and 20 characters😭\")"
   ]
  },
  {
   "cell_type": "code",
   "execution_count": 3,
   "id": "6b413b0a",
   "metadata": {},
   "outputs": [
    {
     "name": "stdout",
     "output_type": "stream",
     "text": [
      "Good mOrning\n"
     ]
    }
   ],
   "source": [
    "a = 5\n",
    "if a>=10:\n",
    "    print(\"Hello World\")\n",
    "print(\"Good mOrning\")"
   ]
  },
  {
   "cell_type": "markdown",
   "id": "33c071df",
   "metadata": {},
   "source": [
    "- check whether the two sides of a tria"
   ]
  },
  {
   "cell_type": "code",
   "execution_count": null,
   "id": "c3104674",
   "metadata": {},
   "outputs": [],
   "source": []
  }
 ],
 "metadata": {
  "kernelspec": {
   "display_name": "base",
   "language": "python",
   "name": "python3"
  },
  "language_info": {
   "codemirror_mode": {
    "name": "ipython",
    "version": 3
   },
   "file_extension": ".py",
   "mimetype": "text/x-python",
   "name": "python",
   "nbconvert_exporter": "python",
   "pygments_lexer": "ipython3",
   "version": "3.12.9"
  }
 },
 "nbformat": 4,
 "nbformat_minor": 5
}
