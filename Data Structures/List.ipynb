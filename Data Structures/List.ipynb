{
 "cells": [
  {
   "cell_type": "code",
   "execution_count": 2,
   "id": "54153b31",
   "metadata": {},
   "outputs": [
    {
     "name": "stdout",
     "output_type": "stream",
     "text": [
      "['uber', 'watsap', 'snapchat', 'instagram', 'twitter', 'ola', 'swiggy', 'zomato']\n"
     ]
    }
   ],
   "source": [
    "apps = ['uber','watsap','snapchat','instagram','twitter','ola','swiggy','zomato']\n",
    "print(apps)"
   ]
  },
  {
   "cell_type": "markdown",
   "id": "27e61e86",
   "metadata": {},
   "source": [
    "INDEXING & SLICING"
   ]
  },
  {
   "cell_type": "code",
   "execution_count": 3,
   "id": "3acb583a",
   "metadata": {},
   "outputs": [
    {
     "name": "stdout",
     "output_type": "stream",
     "text": [
      "twitter\n",
      "swiggy\n"
     ]
    }
   ],
   "source": [
    "print(apps[4])\n",
    "print(apps[6])"
   ]
  },
  {
   "cell_type": "code",
   "execution_count": 4,
   "id": "81175945",
   "metadata": {},
   "outputs": [
    {
     "name": "stdout",
     "output_type": "stream",
     "text": [
      "instagram\n",
      "watsap\n"
     ]
    }
   ],
   "source": [
    "print(apps[-5])\n",
    "print(apps[-7])"
   ]
  },
  {
   "cell_type": "code",
   "execution_count": 5,
   "id": "afbb2cfe",
   "metadata": {},
   "outputs": [
    {
     "name": "stdout",
     "output_type": "stream",
     "text": [
      "['watsap', 'snapchat', 'instagram', 'twitter', 'ola']\n",
      "['watsap', 'instagram', 'ola']\n",
      "['uber', 'watsap', 'snapchat', 'instagram', 'twitter', 'ola', 'swiggy', 'zomato']\n",
      "['uber', 'snapchat', 'twitter', 'swiggy']\n",
      "['instagram', 'twitter', 'ola', 'swiggy']\n"
     ]
    }
   ],
   "source": [
    "print(apps[1:6])\n",
    "print(apps[1:7:2])\n",
    "print(apps[:])\n",
    "print(apps[::2])\n",
    "print(apps[-5:-1])"
   ]
  },
  {
   "cell_type": "markdown",
   "id": "cea779b7",
   "metadata": {},
   "source": [
    "LIST METHODS\n",
    "- append() - to add item at the end of the list\n",
    "- insert() - to add item at any specific position in the list\n",
    "- pop() - to delete item using its index position\n",
    "- remove() - to delete items using item name\n",
    "- copy() - to make a duplicate of the list\n",
    "- sort() - to sort the list in a particular order\n",
    "- extend() - to combine two list into a single list\n",
    "- clear() - to delete all the items from the list but not the list"
   ]
  },
  {
   "cell_type": "code",
   "execution_count": 6,
   "id": "b8697c02",
   "metadata": {},
   "outputs": [
    {
     "name": "stdout",
     "output_type": "stream",
     "text": [
      "['uber', 'watsap', 'snapchat', 'instagram', 'twitter', 'ola', 'swiggy', 'zomato', 'netflix']\n"
     ]
    }
   ],
   "source": [
    "apps.append('netflix')\n",
    "print(apps)"
   ]
  },
  {
   "cell_type": "code",
   "execution_count": 7,
   "id": "3551b5ec",
   "metadata": {},
   "outputs": [
    {
     "name": "stdout",
     "output_type": "stream",
     "text": [
      "['uber', 'watsap', 'snapchat', 'youtube', 'instagram', 'twitter', 'ola', 'swiggy', 'zomato', 'netflix']\n"
     ]
    }
   ],
   "source": [
    "apps.insert(3, 'youtube')\n",
    "print(apps)"
   ]
  },
  {
   "cell_type": "code",
   "execution_count": 8,
   "id": "a4e1166f",
   "metadata": {},
   "outputs": [
    {
     "name": "stdout",
     "output_type": "stream",
     "text": [
      "['uber', 'watsap', 'youtube', 'instagram', 'twitter', 'ola', 'swiggy', 'zomato', 'netflix']\n"
     ]
    }
   ],
   "source": [
    "apps.pop(2)\n",
    "print(apps)"
   ]
  },
  {
   "cell_type": "code",
   "execution_count": 9,
   "id": "ca488060",
   "metadata": {},
   "outputs": [
    {
     "name": "stdout",
     "output_type": "stream",
     "text": [
      "['uber', 'watsap', 'youtube', 'instagram', 'twitter', 'swiggy', 'zomato', 'netflix']\n"
     ]
    }
   ],
   "source": [
    "apps.remove('ola')\n",
    "print(apps)"
   ]
  },
  {
   "cell_type": "code",
   "execution_count": 10,
   "id": "78c25194",
   "metadata": {},
   "outputs": [
    {
     "name": "stdout",
     "output_type": "stream",
     "text": [
      "['uber', 'watsap', 'youtube', 'instagram', 'twitter', 'swiggy', 'zomato', 'netflix']\n"
     ]
    }
   ],
   "source": [
    "copy_apps = apps.copy()\n",
    "print(copy_apps)"
   ]
  },
  {
   "cell_type": "code",
   "execution_count": 11,
   "id": "5ff38ec5",
   "metadata": {},
   "outputs": [
    {
     "name": "stdout",
     "output_type": "stream",
     "text": [
      "[]\n"
     ]
    }
   ],
   "source": [
    "copy_apps.clear()\n",
    "print(copy_apps)"
   ]
  },
  {
   "cell_type": "code",
   "execution_count": 12,
   "id": "d56ebd11",
   "metadata": {},
   "outputs": [
    {
     "name": "stdout",
     "output_type": "stream",
     "text": [
      "['instagram', 'netflix', 'swiggy', 'twitter', 'uber', 'watsap', 'youtube', 'zomato']\n"
     ]
    }
   ],
   "source": [
    "apps.sort()\n",
    "print(apps)"
   ]
  },
  {
   "cell_type": "code",
   "execution_count": 13,
   "id": "e54d45fa",
   "metadata": {},
   "outputs": [],
   "source": [
    "apps2 = ['google', 'facebook', 'linkedin']\n",
    "apps.extend(apps2)"
   ]
  },
  {
   "cell_type": "code",
   "execution_count": 14,
   "id": "9e0e5326",
   "metadata": {},
   "outputs": [
    {
     "name": "stdout",
     "output_type": "stream",
     "text": [
      "['instagram', 'netflix', 'swiggy', 'twitter', 'uber', 'watsap', 'youtube', 'zomato', 'google', 'facebook', 'linkedin', 'google', 'facebook', 'linkedin']\n"
     ]
    }
   ],
   "source": [
    "apps.extend(apps2)\n",
    "print(apps)"
   ]
  },
  {
   "cell_type": "code",
   "execution_count": 15,
   "id": "2df39f06",
   "metadata": {},
   "outputs": [
    {
     "name": "stdout",
     "output_type": "stream",
     "text": [
      "['google', 'facebook', 'linkedin', 'instagram', 'netflix', 'swiggy', 'twitter', 'uber', 'watsap', 'youtube', 'zomato', 'google', 'facebook', 'linkedin', 'google', 'facebook', 'linkedin']\n"
     ]
    }
   ],
   "source": [
    "apps2.extend(apps)\n",
    "print(apps2)"
   ]
  },
  {
   "cell_type": "code",
   "execution_count": null,
   "id": "c6462020",
   "metadata": {},
   "outputs": [],
   "source": []
  }
 ],
 "metadata": {
  "kernelspec": {
   "display_name": "base",
   "language": "python",
   "name": "python3"
  },
  "language_info": {
   "codemirror_mode": {
    "name": "ipython",
    "version": 3
   },
   "file_extension": ".py",
   "mimetype": "text/x-python",
   "name": "python",
   "nbconvert_exporter": "python",
   "pygments_lexer": "ipython3",
   "version": "3.12.9"
  }
 },
 "nbformat": 4,
 "nbformat_minor": 5
}
