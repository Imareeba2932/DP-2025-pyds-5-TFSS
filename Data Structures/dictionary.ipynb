{
 "cells": [
  {
   "cell_type": "markdown",
   "id": "ed64358c",
   "metadata": {},
   "source": [
    "- how to create dictionary\n",
    "- how to access pairs in dictionary\n",
    "- how to run a loop in dictionary\n",
    "- how to make a nested dictionary\n",
    "- indexing in dictionary"
   ]
  },
  {
   "cell_type": "code",
   "execution_count": 1,
   "id": "1b064ddd",
   "metadata": {},
   "outputs": [
    {
     "name": "stdout",
     "output_type": "stream",
     "text": [
      "{'name': 'alice', 'age': 20, 'course': 'BCA', 'marks': 87}\n"
     ]
    }
   ],
   "source": [
    "student = {\n",
    "    \"name\" : input(\"Enter the name\"),\n",
    "    \"age\" : 20,\n",
    "    \"course\" : \"BCA\",\n",
    "    \"marks\" : 87\n",
    "}\n",
    "print(student)"
   ]
  },
  {
   "cell_type": "code",
   "execution_count": 2,
   "id": "08f59f6f",
   "metadata": {},
   "outputs": [
    {
     "name": "stdout",
     "output_type": "stream",
     "text": [
      "{'name': 'alice', 'age': 20, 'course': 'mba', 'marks': 89}\n"
     ]
    }
   ],
   "source": [
    "info = dict(name = input(\"Enter the name\"), age = 20, course = \"mba\", marks = 89)\n",
    "print(info)"
   ]
  },
  {
   "cell_type": "code",
   "execution_count": null,
   "id": "6ee81967",
   "metadata": {},
   "outputs": [
    {
     "name": "stdout",
     "output_type": "stream",
     "text": [
      "{'lucknow': [30, 35, 48], 'delhi': [35, 45, 50], 'chennai': [28, 29, 30]}\n"
     ]
    }
   ],
   "source": [
    "temp = {\n",
    "    'lucknow':[30,35,48],\n",
    "    'delhi':[35,45,50],\n",
    "    'chennai':[28,29,30]\n",
    "}\n",
    "print(temp)"
   ]
  },
  {
   "cell_type": "code",
   "execution_count": 4,
   "id": "456a7c23",
   "metadata": {},
   "outputs": [
    {
     "data": {
      "text/plain": [
       "20"
      ]
     },
     "execution_count": 4,
     "metadata": {},
     "output_type": "execute_result"
    }
   ],
   "source": [
    "#1st method to acces value through key\n",
    "info['name']\n",
    "info['age']"
   ]
  },
  {
   "cell_type": "code",
   "execution_count": 5,
   "id": "915fa39c",
   "metadata": {},
   "outputs": [
    {
     "data": {
      "text/plain": [
       "'mba'"
      ]
     },
     "execution_count": 5,
     "metadata": {},
     "output_type": "execute_result"
    }
   ],
   "source": [
    "#2nd method \n",
    "info.get(\"name\")\n",
    "info.get(\"course\")"
   ]
  },
  {
   "cell_type": "code",
   "execution_count": 6,
   "id": "38703f95",
   "metadata": {},
   "outputs": [],
   "source": [
    "#adding new key and value pair in the dictionary\n",
    "info['city'] = \"lucknow\""
   ]
  },
  {
   "cell_type": "code",
   "execution_count": 7,
   "id": "6be8fcb3",
   "metadata": {},
   "outputs": [
    {
     "name": "stdout",
     "output_type": "stream",
     "text": [
      "{'name': 'alice', 'age': 20, 'course': 'mba', 'marks': 89, 'city': 'lucknow'}\n"
     ]
    }
   ],
   "source": [
    "print(info)"
   ]
  },
  {
   "cell_type": "code",
   "execution_count": null,
   "id": "a439117f",
   "metadata": {},
   "outputs": [
    {
     "name": "stdout",
     "output_type": "stream",
     "text": [
      "name : alice\n",
      "age : 20\n",
      "course : BCA\n",
      "marks : 87\n"
     ]
    }
   ],
   "source": [
    "for i,j in student.items():\n",
    "    print(f'{i} : {j}')"
   ]
  },
  {
   "cell_type": "code",
   "execution_count": 18,
   "id": "0ad5261d",
   "metadata": {},
   "outputs": [
    {
     "name": "stdout",
     "output_type": "stream",
     "text": [
      "dict_keys(['name', 'age', 'course', 'marks'])\n",
      "dict_values(['alice', 20, 'BCA', 87])\n",
      "dict_items([('name', 'alice'), ('age', 20), ('course', 'BCA'), ('marks', 87)])\n"
     ]
    }
   ],
   "source": [
    "print(student.keys())\n",
    "print(student.values())\n",
    "print(student.items())"
   ]
  },
  {
   "cell_type": "code",
   "execution_count": 20,
   "id": "48ee0fd2",
   "metadata": {},
   "outputs": [
    {
     "name": "stdout",
     "output_type": "stream",
     "text": [
      "{'emp001': {'name': 'Alice', 'dept': 'Finance', 'salary': 50000}, 'emp002': {'name': 'Bob', 'dept': 'Marketing', 'salary': 45000}, 'emp003': {'name': 'Smith', 'dept': 'IT', 'salary': 70000}}\n"
     ]
    }
   ],
   "source": [
    "company = {\n",
    "    'emp001' : {\n",
    "        'name' : 'Alice',\n",
    "        'dept' : 'Finance',\n",
    "        'salary' : 50000\n",
    "    },\n",
    "    'emp002' : {\n",
    "        'name' : 'Bob',\n",
    "        'dept' : 'Marketing',\n",
    "        'salary' : 45000\n",
    "    },\n",
    "    'emp003' : {\n",
    "        'name' : 'Smith',\n",
    "        'dept' : 'IT',\n",
    "        'salary' : 70000\n",
    "    }\n",
    "}\n",
    "print(company)"
   ]
  },
  {
   "cell_type": "code",
   "execution_count": 21,
   "id": "9f3fd348",
   "metadata": {},
   "outputs": [],
   "source": [
    "from pprint import pprint"
   ]
  },
  {
   "cell_type": "code",
   "execution_count": 22,
   "id": "21c8b6d1",
   "metadata": {},
   "outputs": [
    {
     "name": "stdout",
     "output_type": "stream",
     "text": [
      "{'emp001': {'dept': 'Finance', 'name': 'Alice', 'salary': 50000},\n",
      " 'emp002': {'dept': 'Marketing', 'name': 'Bob', 'salary': 45000},\n",
      " 'emp003': {'dept': 'IT', 'name': 'Smith', 'salary': 70000}}\n"
     ]
    }
   ],
   "source": [
    "pprint(company)"
   ]
  },
  {
   "cell_type": "code",
   "execution_count": 24,
   "id": "c8d09743",
   "metadata": {},
   "outputs": [
    {
     "data": {
      "text/plain": [
       "'Marketing'"
      ]
     },
     "execution_count": 24,
     "metadata": {},
     "output_type": "execute_result"
    }
   ],
   "source": [
    "company['emp002']['dept']"
   ]
  },
  {
   "cell_type": "code",
   "execution_count": 25,
   "id": "3fda39c6",
   "metadata": {},
   "outputs": [
    {
     "name": "stdout",
     "output_type": "stream",
     "text": [
      "37.666666666666664\n"
     ]
    }
   ],
   "source": [
    "print(sum(temp['lucknow'])/len(temp['lucknow']))"
   ]
  },
  {
   "cell_type": "code",
   "execution_count": null,
   "id": "73121792",
   "metadata": {},
   "outputs": [],
   "source": []
  }
 ],
 "metadata": {
  "kernelspec": {
   "display_name": "base",
   "language": "python",
   "name": "python3"
  },
  "language_info": {
   "codemirror_mode": {
    "name": "ipython",
    "version": 3
   },
   "file_extension": ".py",
   "mimetype": "text/x-python",
   "name": "python",
   "nbconvert_exporter": "python",
   "pygments_lexer": "ipython3",
   "version": "3.12.9"
  }
 },
 "nbformat": 4,
 "nbformat_minor": 5
}
