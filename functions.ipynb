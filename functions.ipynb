{
 "cells": [
  {
   "cell_type": "markdown",
   "id": "8014a822",
   "metadata": {},
   "source": [
    "- User Defined Functions\n",
    "    - Parameterized Function\n",
    "    - non parameterized Function\n",
    "    - retun Function\n",
    "    - non return Function\n",
    "    - Default Parameterized function\n",
    "    - Lambda Function\n",
    "- Built in Functions"
   ]
  },
  {
   "cell_type": "code",
   "execution_count": 1,
   "id": "becfa4b2",
   "metadata": {},
   "outputs": [
    {
     "name": "stdout",
     "output_type": "stream",
     "text": [
      "I am good thankyou\n"
     ]
    }
   ],
   "source": [
    "#non parameterized function\n",
    "def greet(): #Function Initialize\n",
    "    print(\"Hello\")\n",
    "    print(\"How are you?\")\n",
    "print(\"I am good thankyou\")"
   ]
  },
  {
   "cell_type": "code",
   "execution_count": 2,
   "id": "5cb2c854",
   "metadata": {},
   "outputs": [
    {
     "name": "stdout",
     "output_type": "stream",
     "text": [
      "Hello\n",
      "How are you?\n",
      "I am good thankyou\n"
     ]
    }
   ],
   "source": [
    "greet() #function calling"
   ]
  },
  {
   "cell_type": "code",
   "execution_count": 3,
   "id": "c1b536ef",
   "metadata": {},
   "outputs": [
    {
     "name": "stdout",
     "output_type": "stream",
     "text": [
      "Hello\n",
      "How are you?\n",
      "I am good thankyou\n"
     ]
    }
   ],
   "source": [
    "greet()"
   ]
  },
  {
   "cell_type": "code",
   "execution_count": 10,
   "id": "6802e990",
   "metadata": {},
   "outputs": [
    {
     "name": "stdout",
     "output_type": "stream",
     "text": [
      "15\n"
     ]
    }
   ],
   "source": [
    "def sum(a,b): #paramters\n",
    "    print(a+b)\n",
    "\n",
    "sum(5, 10) #arguments"
   ]
  },
  {
   "cell_type": "code",
   "execution_count": 5,
   "id": "a658f6e3",
   "metadata": {},
   "outputs": [],
   "source": [
    "a = 10\n",
    "b = 5"
   ]
  },
  {
   "cell_type": "code",
   "execution_count": 6,
   "id": "f5d63adb",
   "metadata": {},
   "outputs": [],
   "source": [
    "def sum():\n",
    "    print(a+b)"
   ]
  },
  {
   "cell_type": "code",
   "execution_count": 7,
   "id": "524b9a74",
   "metadata": {},
   "outputs": [
    {
     "name": "stdout",
     "output_type": "stream",
     "text": [
      "15\n"
     ]
    }
   ],
   "source": [
    "sum()"
   ]
  },
  {
   "cell_type": "code",
   "execution_count": 12,
   "id": "145f73a4",
   "metadata": {},
   "outputs": [
    {
     "name": "stdout",
     "output_type": "stream",
     "text": [
      "Elligible\n"
     ]
    }
   ],
   "source": [
    "def age(age):\n",
    "    if age>=18:\n",
    "        print(\"Elligible\")\n",
    "    else:\n",
    "        print(\"not\")\n",
    "\n",
    "age(21)"
   ]
  },
  {
   "cell_type": "code",
   "execution_count": 13,
   "id": "d7b04c3e",
   "metadata": {},
   "outputs": [
    {
     "name": "stdout",
     "output_type": "stream",
     "text": [
      "Elligible\n"
     ]
    }
   ],
   "source": [
    "age(25)"
   ]
  },
  {
   "cell_type": "code",
   "execution_count": null,
   "id": "20f0986e",
   "metadata": {},
   "outputs": [
    {
     "name": "stdout",
     "output_type": "stream",
     "text": [
      "14.0\n",
      "None\n"
     ]
    }
   ],
   "source": [
    "def avg(a,b,c,d):\n",
    "    print(a+b+c+d/4)\n",
    "\n",
    "average = avg(2,4,6,8)\n",
    "print(average)"
   ]
  },
  {
   "cell_type": "code",
   "execution_count": 17,
   "id": "1391cf4c",
   "metadata": {},
   "outputs": [
    {
     "name": "stdout",
     "output_type": "stream",
     "text": [
      "14.0\n"
     ]
    }
   ],
   "source": [
    "def avg(a,b,c,d):\n",
    "    return a+b+c+d/4\n",
    "\n",
    "average = avg(2,4,6,8)\n",
    "print(average)"
   ]
  },
  {
   "cell_type": "code",
   "execution_count": 18,
   "id": "9d172ff7",
   "metadata": {},
   "outputs": [
    {
     "name": "stdout",
     "output_type": "stream",
     "text": [
      "14.0\n"
     ]
    }
   ],
   "source": [
    "print(average)"
   ]
  },
  {
   "cell_type": "code",
   "execution_count": null,
   "id": "14783806",
   "metadata": {},
   "outputs": [
    {
     "name": "stdout",
     "output_type": "stream",
     "text": [
      "I Love USA\n",
      "I Love London\n",
      "I Love UK\n"
     ]
    }
   ],
   "source": [
    "def myCountry(country='india'):\n",
    "    return f'I Love {country}'\n",
    "\n",
    "print(myCountry('USA'))\n",
    "print(myCountry('London'))\n",
    "print(myCountry())"
   ]
  },
  {
   "cell_type": "code",
   "execution_count": 10,
   "id": "2c5ec8bd",
   "metadata": {},
   "outputs": [
    {
     "name": "stdout",
     "output_type": "stream",
     "text": [
      "sum of 10 and 5 is 15\n"
     ]
    }
   ],
   "source": [
    "a = 10\n",
    "b = 5\n",
    "sum = a+b\n",
    "print(f'sum of {a} and {b} is {sum}')"
   ]
  },
  {
   "cell_type": "code",
   "execution_count": 12,
   "id": "0d4972ac",
   "metadata": {},
   "outputs": [
    {
     "data": {
      "text/plain": [
       "256"
      ]
     },
     "execution_count": 12,
     "metadata": {},
     "output_type": "execute_result"
    }
   ],
   "source": [
    "def square(a):\n",
    "    return a**a\n",
    "square(4)"
   ]
  },
  {
   "cell_type": "code",
   "execution_count": 13,
   "id": "519b89ec",
   "metadata": {},
   "outputs": [
    {
     "name": "stdout",
     "output_type": "stream",
     "text": [
      "27\n"
     ]
    }
   ],
   "source": [
    "square = lambda a : a**a\n",
    "print(square(3))"
   ]
  },
  {
   "cell_type": "code",
   "execution_count": null,
   "id": "787760a5",
   "metadata": {},
   "outputs": [],
   "source": []
  }
 ],
 "metadata": {
  "kernelspec": {
   "display_name": "base",
   "language": "python",
   "name": "python3"
  },
  "language_info": {
   "codemirror_mode": {
    "name": "ipython",
    "version": 3
   },
   "file_extension": ".py",
   "mimetype": "text/x-python",
   "name": "python",
   "nbconvert_exporter": "python",
   "pygments_lexer": "ipython3",
   "version": "3.12.9"
  }
 },
 "nbformat": 4,
 "nbformat_minor": 5
}
