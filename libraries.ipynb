{
 "cells": [
  {
   "cell_type": "code",
   "execution_count": 1,
   "id": "988a26e6",
   "metadata": {},
   "outputs": [],
   "source": [
    "import math"
   ]
  },
  {
   "cell_type": "code",
   "execution_count": 10,
   "id": "9b8f7c04",
   "metadata": {},
   "outputs": [
    {
     "name": "stdout",
     "output_type": "stream",
     "text": [
      "120\n",
      "1\n",
      "12\n",
      "0.8414709848078965\n",
      "0.0\n"
     ]
    }
   ],
   "source": [
    "print(math.factorial(5))\n",
    "print(math.gcd(2,5,7))\n",
    "print(math.lcm(2,4,6))\n",
    "print(math.sin(1))\n",
    "print(math.tan(0))"
   ]
  },
  {
   "cell_type": "code",
   "execution_count": 11,
   "id": "44e075e6",
   "metadata": {},
   "outputs": [],
   "source": [
    "from random import random, randint, choice, shuffle"
   ]
  },
  {
   "cell_type": "code",
   "execution_count": 12,
   "id": "14b37e77",
   "metadata": {},
   "outputs": [],
   "source": [
    "import random"
   ]
  },
  {
   "cell_type": "code",
   "execution_count": 32,
   "id": "dde954fa",
   "metadata": {},
   "outputs": [
    {
     "name": "stdout",
     "output_type": "stream",
     "text": [
      "Give number between 0 and 1 0.7523399287006056\n",
      "Give number between 2 and 8 8\n",
      "Choose a number from the list 2\n",
      "Shuffled List: ['Jane', 'Jill', 'Jack', 'John']\n"
     ]
    }
   ],
   "source": [
    "print(\"Give number between 0 and 1\",random.random())\n",
    "print(\"Give number between 2 and 8\",random.randint(2,8))\n",
    "print(\"Choose a number from the list\", random.choice([2,5,3,7,6,8]))\n",
    "name=['John','Jack','Jane','Jill']\n",
    "shuffle(name)\n",
    "print('Shuffled List:', name)\n"
   ]
  },
  {
   "cell_type": "code",
   "execution_count": 33,
   "id": "2817de43",
   "metadata": {},
   "outputs": [],
   "source": [
    "from datetime import datetime as dt"
   ]
  },
  {
   "cell_type": "code",
   "execution_count": 34,
   "id": "3656f7f9",
   "metadata": {},
   "outputs": [
    {
     "name": "stdout",
     "output_type": "stream",
     "text": [
      "Current Date and Time:  2025-07-05 18:08:01.747729\n"
     ]
    }
   ],
   "source": [
    "print('Current Date and Time: ', dt.now())"
   ]
  },
  {
   "cell_type": "code",
   "execution_count": 36,
   "id": "4777189e",
   "metadata": {},
   "outputs": [
    {
     "name": "stdout",
     "output_type": "stream",
     "text": [
      "Current Date:  2025-07-05\n",
      "Current Time:  18:09:02.639343\n"
     ]
    }
   ],
   "source": [
    "print('Current Date: ',dt.now().date())\n",
    "print('Current Time: ',dt.now().time())"
   ]
  },
  {
   "cell_type": "code",
   "execution_count": 44,
   "id": "d4d5599e",
   "metadata": {},
   "outputs": [
    {
     "name": "stdout",
     "output_type": "stream",
     "text": [
      "Current Year:  2025\n",
      "Curreent Month:  7\n",
      "Current Date:  5\n",
      "Current hour:  18\n",
      "Current minute:  16\n",
      "Curremt second:  8\n",
      "Current Weekday:  5\n"
     ]
    }
   ],
   "source": [
    "print('Current Year: ', dt.now().year)\n",
    "print('Curreent Month: ',dt.now().month)\n",
    "print('Current Date: ',dt.now().day)\n",
    "print('Current hour: ',dt.now().hour)\n",
    "print('Current minute: ',dt.now().minute)\n",
    "print('Curremt second: ',dt.now().second)\n",
    "print('Current Weekday: ',dt.now().weekday())"
   ]
  },
  {
   "cell_type": "code",
   "execution_count": 46,
   "id": "24adf331",
   "metadata": {},
   "outputs": [
    {
     "name": "stdout",
     "output_type": "stream",
     "text": [
      "05/07/25\n"
     ]
    }
   ],
   "source": [
    "date = dt.strftime(dt.now(), '%d/%m/%y')\n",
    "print(date)"
   ]
  },
  {
   "cell_type": "code",
   "execution_count": 49,
   "id": "a73cdd6e",
   "metadata": {},
   "outputs": [
    {
     "name": "stdout",
     "output_type": "stream",
     "text": [
      "18:23:29\n"
     ]
    }
   ],
   "source": [
    "time = dt.strftime(dt.now(), '%H:%M:%S')\n",
    "print(time)"
   ]
  },
  {
   "cell_type": "code",
   "execution_count": null,
   "id": "a9a87b6b",
   "metadata": {},
   "outputs": [],
   "source": []
  }
 ],
 "metadata": {
  "kernelspec": {
   "display_name": "base",
   "language": "python",
   "name": "python3"
  },
  "language_info": {
   "codemirror_mode": {
    "name": "ipython",
    "version": 3
   },
   "file_extension": ".py",
   "mimetype": "text/x-python",
   "name": "python",
   "nbconvert_exporter": "python",
   "pygments_lexer": "ipython3",
   "version": "3.12.9"
  }
 },
 "nbformat": 4,
 "nbformat_minor": 5
}
